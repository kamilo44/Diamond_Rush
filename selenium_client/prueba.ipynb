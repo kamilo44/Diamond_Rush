{
 "cells": [
  {
   "cell_type": "code",
   "execution_count": null,
   "id": "d422f41d",
   "metadata": {},
   "outputs": [],
   "source": [
    "from modules.selenium_custom import DiamondRushSelenium\n",
    "from modules.images_tools import crear_matriz, mostrar_matriz\n",
    "import time"
   ]
  },
  {
   "cell_type": "code",
   "execution_count": null,
   "id": "cbf444c4",
   "metadata": {},
   "outputs": [],
   "source": [
    "diamondRush = DiamondRushSelenium()"
   ]
  },
  {
   "cell_type": "code",
   "execution_count": null,
   "id": "0479d761",
   "metadata": {},
   "outputs": [],
   "source": [
    "diamondRush.start_driver(localhost=True)"
   ]
  },
  {
   "cell_type": "code",
   "execution_count": null,
   "id": "25e3fb56",
   "metadata": {},
   "outputs": [],
   "source": [
    "for i in range(5):\n",
    "    diamondRush.move_arrow_to('R')\n",
    "    time.sleep(0.5)\n",
    "for i in range(3):\n",
    "    diamondRush.move_arrow_to('D')\n",
    "    time.sleep(0.5)\n",
    "for i in range(5):\n",
    "    diamondRush.move_arrow_to('L')\n",
    "    time.sleep(0.5)\n",
    "for i in range(3):\n",
    "    diamondRush.move_arrow_to('D')\n",
    "    time.sleep(0.5)\n",
    "for i in range(1):\n",
    "    diamondRush.move_arrow_to('R')\n",
    "    time.sleep(0.5)\n",
    "for i in range(1):\n",
    "    diamondRush.move_arrow_to('D')\n",
    "    time.sleep(0.5)\n",
    "for i in range(4):\n",
    "    diamondRush.move_arrow_to('R')\n",
    "    time.sleep(0.5)"
   ]
  },
  {
   "cell_type": "code",
   "execution_count": null,
   "id": "e75f7736",
   "metadata": {},
   "outputs": [],
   "source": [
    "name = 'screenshot_1'\n",
    "diamondRush.take_screenshot(name=name)"
   ]
  },
  {
   "cell_type": "code",
   "execution_count": null,
   "id": "29d0c5c4",
   "metadata": {},
   "outputs": [],
   "source": [
    "path_screenshot = f'./capturas/{name}.png'\n",
    "path_images = './img_diamond'\n",
    "matriz = crear_matriz(path_screenshot=path_screenshot, path_images=path_images)"
   ]
  },
  {
   "cell_type": "code",
   "execution_count": null,
   "id": "63444551",
   "metadata": {},
   "outputs": [],
   "source": [
    "mostrar_matriz(matriz=matriz)"
   ]
  },
  {
   "cell_type": "code",
   "execution_count": null,
   "id": "55173cab",
   "metadata": {},
   "outputs": [],
   "source": [
    "diamondRush.driver.quit()"
   ]
  }
 ],
 "metadata": {
  "kernelspec": {
   "display_name": "venv",
   "language": "python",
   "name": "python3"
  },
  "language_info": {
   "codemirror_mode": {
    "name": "ipython",
    "version": 3
   },
   "file_extension": ".py",
   "mimetype": "text/x-python",
   "name": "python",
   "nbconvert_exporter": "python",
   "pygments_lexer": "ipython3",
   "version": "3.10.12"
  }
 },
 "nbformat": 4,
 "nbformat_minor": 5
}
