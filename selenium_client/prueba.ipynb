{
 "cells": [
  {
   "cell_type": "code",
   "execution_count": 1,
   "id": "d422f41d",
   "metadata": {},
   "outputs": [],
   "source": [
    "from modules.selenium_custom import DiamondRushSelenium\n",
    "import time"
   ]
  },
  {
   "cell_type": "code",
   "execution_count": 2,
   "id": "cbf444c4",
   "metadata": {},
   "outputs": [],
   "source": [
    "diamondRush = DiamondRushSelenium()"
   ]
  },
  {
   "cell_type": "code",
   "execution_count": 3,
   "id": "0479d761",
   "metadata": {},
   "outputs": [
    {
     "name": "stdout",
     "output_type": "stream",
     "text": [
      "✅ Página completamente cargada.\n"
     ]
    },
    {
     "data": {
      "text/plain": [
       "True"
      ]
     },
     "execution_count": 3,
     "metadata": {},
     "output_type": "execute_result"
    }
   ],
   "source": [
    "diamondRush.start_driver()"
   ]
  },
  {
   "cell_type": "code",
   "execution_count": null,
   "id": "25e3fb56",
   "metadata": {},
   "outputs": [
    {
     "name": "stdout",
     "output_type": "stream",
     "text": [
      "Flecha movida: R\n",
      "Flecha movida: R\n",
      "Flecha movida: R\n",
      "Flecha movida: R\n",
      "Flecha movida: R\n"
     ]
    }
   ],
   "source": [
    "for i in range(5):\n",
    "    diamondRush.move_arrow_to('R')\n",
    "    time.sleep(0.5)\n",
    "for i in range(3):\n",
    "    diamondRush.move_arrow_to('D')\n",
    "    time.sleep(0.5)\n",
    "for i in range(5):\n",
    "    diamondRush.move_arrow_to('L')\n",
    "    time.sleep(0.5)\n",
    "for i in range(3):\n",
    "    diamondRush.move_arrow_to('D')\n",
    "    time.sleep(0.5)"
   ]
  },
  {
   "cell_type": "code",
   "execution_count": 4,
   "id": "e75f7736",
   "metadata": {},
   "outputs": [
    {
     "name": "stdout",
     "output_type": "stream",
     "text": [
      "Pantallazo guardado y redimensionado a 960x640.\n"
     ]
    },
    {
     "data": {
      "text/plain": [
       "True"
      ]
     },
     "execution_count": 4,
     "metadata": {},
     "output_type": "execute_result"
    }
   ],
   "source": [
    "diamondRush.take_screenshot()"
   ]
  },
  {
   "cell_type": "code",
   "execution_count": 6,
   "id": "55173cab",
   "metadata": {},
   "outputs": [],
   "source": [
    "diamondRush.driver.quit()"
   ]
  }
 ],
 "metadata": {
  "kernelspec": {
   "display_name": "env_d",
   "language": "python",
   "name": "python3"
  },
  "language_info": {
   "codemirror_mode": {
    "name": "ipython",
    "version": 3
   },
   "file_extension": ".py",
   "mimetype": "text/x-python",
   "name": "python",
   "nbconvert_exporter": "python",
   "pygments_lexer": "ipython3",
   "version": "3.10.12"
  }
 },
 "nbformat": 4,
 "nbformat_minor": 5
}
